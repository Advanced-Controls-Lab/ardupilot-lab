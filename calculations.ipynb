{
 "cells": [
  {
   "cell_type": "code",
   "execution_count": 5,
   "metadata": {},
   "outputs": [],
   "source": [
    "import numpy as np \n",
    "import roboticstoolbox as rtb \n",
    "from spatialmath import * \n",
    "from spatialmath.base import *\n",
    "import spatialmath.base.symbolic as sym\n",
    "import sympy\n",
    "from sympy import Matrix, symbols, cos, sin\n",
    "from IPython.display import display, Latex \n",
    "import matplotlib.pyplot as plt\n"
   ]
  },
  {
   "cell_type": "code",
   "execution_count": 6,
   "metadata": {},
   "outputs": [
    {
     "name": "stdout",
     "output_type": "stream",
     "text": [
      "This is the final body forces array: \n",
      " [[-mu*sin(a1)*cos(b1),-mu*sin(a2)*cos(b2),-mu*sin(a3)*cos(b3),\n",
      "  -mu*sin(a4)*cos(b4)],\n",
      " [mu*sin(b1),mu*sin(b2),mu*sin(b3),mu*sin(b4)],\n",
      " [-mu*cos(a1)*cos(b1),-mu*cos(a2)*cos(b2),-mu*cos(a3)*cos(b3),\n",
      "  -mu*cos(a4)*cos(b4)]]\n"
     ]
    }
   ],
   "source": [
    "a1,a2,a3,a4 = sym.symbol(\"a1, a2, a3, a4\")\n",
    "b1,b2,b3,b4 = sym.symbol(\"b1, b2, b3, b4\")\n",
    "l = sym.symbol(\"l\")\n",
    "mu = sym.symbol(\"mu\")\n",
    "km = sym.symbol(\"Km\")\n",
    "\n",
    "R_z = rotx(np.pi)\n",
    "R1_prop = roty(a1) @ rotx(b1)\n",
    "R2_prop = roty(a2) @ rotx(b2)\n",
    "R3_prop = roty(a3) @ rotx(b3)\n",
    "R4_prop = roty(a4) @ rotx(b4)\n",
    " \n",
    "T = np.array([0,0,-mu])\n",
    "fb1 = R1_prop.dot(T)\n",
    "fb2 = R2_prop.dot(T)\n",
    "fb3 = R3_prop.dot(T)\n",
    "fb4 = R4_prop.dot(T)\n",
    "\n",
    "forces_body = np.array([fb1, fb2,fb3, fb4])\n",
    "print(f\"This is the final body forces array: \\n {np.array2string(forces_body.T, separator=',')}\")"
   ]
  },
  {
   "cell_type": "code",
   "execution_count": 7,
   "metadata": {},
   "outputs": [
    {
     "name": "stdout",
     "output_type": "stream",
     "text": [
      "[[l*mu*cos(a1)*cos(b1),-l*mu*cos(a2)*cos(b2),-l*mu*cos(a3)*cos(b3),\n",
      "  l*mu*cos(a4)*cos(b4)],\n",
      " [-l*mu*cos(a1)*cos(b1),l*mu*cos(a2)*cos(b2),-l*mu*cos(a3)*cos(b3),\n",
      "  l*mu*cos(a4)*cos(b4)],\n",
      " [-l*mu*sin(a1)*cos(b1) - l*mu*sin(b1),\n",
      "  l*mu*sin(a2)*cos(b2) + l*mu*sin(b2),l*mu*sin(a3)*cos(b3) - l*mu*sin(b3),\n",
      "  -l*mu*sin(a4)*cos(b4) + l*mu*sin(b4)]]\n"
     ]
    }
   ],
   "source": [
    "\n",
    "torques = np.cross(forces_body, np.array([[l, l,0],[-l, -l, 0], [ l, -l, 0], [-l, l, 0]])).T\n",
    "print(np.array2string(torques, separator=\",\"))"
   ]
  },
  {
   "cell_type": "code",
   "execution_count": 8,
   "metadata": {},
   "outputs": [
    {
     "name": "stdout",
     "output_type": "stream",
     "text": [
      "This is the final torques array for the quadcopter: \n",
      "[[1.0*Km*sin(a1)*cos(b1) + l*mu*cos(a1)*cos(b1),\n",
      "  1.0*Km*sin(a2)*cos(b2) - l*mu*cos(a2)*cos(b2),\n",
      "  -1.0*Km*sin(a3)*cos(b3) - l*mu*cos(a3)*cos(b3),\n",
      "  -1.0*Km*sin(a4)*cos(b4) + l*mu*cos(a4)*cos(b4)],\n",
      " [-1.0*Km*sin(b1) - l*mu*cos(a1)*cos(b1),\n",
      "  -1.0*Km*sin(b2) + l*mu*cos(a2)*cos(b2),\n",
      "  1.0*Km*sin(b3) - l*mu*cos(a3)*cos(b3),\n",
      "  1.0*Km*sin(b4) + l*mu*cos(a4)*cos(b4)],\n",
      " [1.0*Km*cos(a1)*cos(b1) - l*mu*sin(a1)*cos(b1) - l*mu*sin(b1),\n",
      "  1.0*Km*cos(a2)*cos(b2) + l*mu*sin(a2)*cos(b2) + l*mu*sin(b2),\n",
      "  -1.0*Km*cos(a3)*cos(b3) + l*mu*sin(a3)*cos(b3) - l*mu*sin(b3),\n",
      "  -1.0*Km*cos(a4)*cos(b4) - l*mu*sin(a4)*cos(b4) + l*mu*sin(b4)]]\n"
     ]
    }
   ],
   "source": [
    "drag_torques = R_z.dot(np.array([[0,0, -km],[0, 0,-km], [0,0,km], [0,0,km]]).T)\n",
    "drag_torques[1] = 0\n",
    "drag1 = R1_prop.dot(drag_torques[:,0])\n",
    "drag2 = R2_prop.dot(drag_torques[:,1])\n",
    "drag3 = R3_prop.dot(drag_torques[:,2])\n",
    "drag4 = R4_prop.dot(drag_torques[:,3])\n",
    "\n",
    "drag_torques_body = np.array([drag1, drag2, drag3, drag4]).T\n",
    "final_torques = torques+drag_torques_body\n",
    "print(f\"This is the final torques array for the quadcopter: \\n{np.array2string(torques + drag_torques_body, separator=',')}\")"
   ]
  },
  {
   "cell_type": "code",
   "execution_count": 15,
   "metadata": {},
   "outputs": [
    {
     "name": "stdout",
     "output_type": "stream",
     "text": [
      "-1.21115157276963\n"
     ]
    }
   ],
   "source": [
    "alloc2 = Matrix([-mu*sin(a1)*cos(b1) - mu*sin(a2)*cos(b2) - mu*sin(a3)*cos(b3) - mu*sin(a4)*cos(b4),\n",
    " mu*sin(b1) + mu*sin(b2) + mu*sin(b3) + mu*sin(b4),\n",
    " -mu*cos(a1)*cos(b1) - mu*cos(a2)*cos(b2) - mu*cos(a3)*cos(b3) - mu*cos(a4)*cos(b4),\n",
    " (1.0*km*sin(a1)*cos(b1) + l*mu*cos(a1)*cos(b1)) + (1.0*km*sin(a2)*cos(b2) - l*mu*cos(a2)*cos(b2)) + (-1.0*km*sin(a3)*cos(b3) - l*mu*cos(a3)*cos(b3)) + (-1.0*km*sin(a4)*cos(b4) + l*mu*cos(a4)*cos(b4)),\n",
    " (-1.0*km*sin(b1) - l*mu*cos(a1)*cos(b1)) + (-1.0*km*sin(b2) + l*mu*cos(a2)*cos(b2)) + (1.0*km*sin(b3) - l*mu*cos(a3)*cos(b3)) + (1.0*km*sin(b4) + l*mu*cos(a4)*cos(b4)),\n",
    " ( -l*mu*sin(a1)*cos(b1) - l*mu*sin(b1)) + ( l*mu*sin(a2)*cos(b2) + l*mu*sin(b2)) + (l*mu*sin(a3)*cos(b3) - l*mu*sin(b3)) + (l*mu*sin(a4)*cos(b4) + l*mu*sin(b4))])\n",
    "yaw_torques = alloc2[5]\n",
    "yaw_torques2 = yaw_torques.subs([(a1,0.08333 *np.pi),(b1,0.08333 *np.pi),(a2,-0.08333 *np.pi),(b2,-0.08333 *np.pi),(a3,-0.08333 *np.pi),(b3,0.08333 *np.pi),(a4,0.08333 *np.pi),(b4,-0.08333 *np.pi), (mu, 4.9307), (l, 0.16)])\n",
    "print(yaw_torques2)"
   ]
  },
  {
   "cell_type": "code",
   "execution_count": 6,
   "metadata": {},
   "outputs": [
    {
     "name": "stdout",
     "output_type": "stream",
     "text": [
      "[-mu*w1**2*sin(a1)*cos(b1) - mu*w2**2*sin(a2)*cos(b2) - mu*w3**2*sin(a3)*cos(b3) - mu*w4**2*sin(a4)*cos(b4)\n",
      " mu*w1**2*sin(b1) + mu*w2**2*sin(b2) + mu*w3**2*sin(b3) + mu*w4**2*sin(b4)\n",
      " -mu*w1**2*cos(a1)*cos(b1) - mu*w2**2*cos(a2)*cos(b2) - mu*w3**2*cos(a3)*cos(b3) - mu*w4**2*cos(a4)*cos(b4)\n",
      " w1**2*(1.0*Km*sin(a1)*cos(b1) + l*mu*cos(a1)*cos(b1)) + w2**2*(1.0*Km*sin(a2)*cos(b2) - l*mu*cos(a2)*cos(b2)) + w3**2*(-1.0*Km*sin(a3)*cos(b3) - l*mu*cos(a3)*cos(b3)) + w4**2*(-1.0*Km*sin(a4)*cos(b4) + l*mu*cos(a4)*cos(b4))\n",
      " w1**2*(-1.0*Km*sin(b1) - l*mu*cos(a1)*cos(b1)) + w2**2*(-1.0*Km*sin(b2) + l*mu*cos(a2)*cos(b2)) + w3**2*(1.0*Km*sin(b3) - l*mu*cos(a3)*cos(b3)) + w4**2*(1.0*Km*sin(b4) + l*mu*cos(a4)*cos(b4))\n",
      " w1**2*(1.0*Km*cos(a1)*cos(b1) - l*mu*sin(a1)*cos(b1) - l*mu*sin(b1)) + w2**2*(1.0*Km*cos(a2)*cos(b2) + l*mu*sin(a2)*cos(b2) + l*mu*sin(b2)) + w3**2*(-1.0*Km*cos(a3)*cos(b3) + l*mu*sin(a3)*cos(b3) - l*mu*sin(b3)) + w4**2*(-1.0*Km*cos(a4)*cos(b4) - l*mu*sin(a4)*cos(b4) + l*mu*sin(b4))]\n"
     ]
    }
   ],
   "source": [
    "w1, w2, w3, w4 = sym.symbol(\"w1, w2, w3, w4\")\n",
    "ang_vel = np.array([w1**2, w2**2, w3**2, w4**2])\n",
    "alloc = np.concatenate((forces_body.T, final_torques), axis=0)\n",
    "print(alloc.dot(ang_vel))"
   ]
  },
  {
   "cell_type": "code",
   "execution_count": 7,
   "metadata": {},
   "outputs": [
    {
     "name": "stdout",
     "output_type": "stream",
     "text": [
      "Matrix([[-0.0348299660602330], [-1319.95683912682], [-101.000494919207], [-0.0348299660602330], [-1121.61616129373], [-97.6627192603527], [-0.0348299660600595], [-1121.59894776346], [-104.993043514903], [-0.0348299660598719], [-2296.52409706248], [-101.178277193155]])\n"
     ]
    },
    {
     "ename": "ShapeError",
     "evalue": "Matrix size mismatch: (12, 12) + (6, 6)",
     "output_type": "error",
     "traceback": [
      "\u001b[0;31m---------------------------------------------------------------------------\u001b[0m",
      "\u001b[0;31mShapeError\u001b[0m                                Traceback (most recent call last)",
      "Cell \u001b[0;32mIn[7], line 22\u001b[0m\n\u001b[1;32m     20\u001b[0m \u001b[39mprint\u001b[39m(u_y)\n\u001b[1;32m     21\u001b[0m gradj \u001b[39m=\u001b[39m Matrix([(mu3 \u001b[39m*\u001b[39m (a1\u001b[39m/\u001b[39mda)\u001b[39m*\u001b[39m\u001b[39m*\u001b[39m\u001b[39m2\u001b[39m),(mu2 \u001b[39m*\u001b[39m (b1\u001b[39m/\u001b[39mdb)\u001b[39m*\u001b[39m\u001b[39m*\u001b[39m\u001b[39m2\u001b[39m),(mu1 \u001b[39m*\u001b[39m ((w1 \u001b[39m-\u001b[39m wm)\u001b[39m/\u001b[39mdw)\u001b[39m*\u001b[39m\u001b[39m*\u001b[39m\u001b[39m2\u001b[39m),(mu3 \u001b[39m*\u001b[39m (a2\u001b[39m/\u001b[39mda)\u001b[39m*\u001b[39m\u001b[39m*\u001b[39m\u001b[39m2\u001b[39m),(mu2 \u001b[39m*\u001b[39m (b2\u001b[39m/\u001b[39mdb)\u001b[39m*\u001b[39m\u001b[39m*\u001b[39m\u001b[39m2\u001b[39m),(mu1 \u001b[39m*\u001b[39m ((w2 \u001b[39m-\u001b[39m wm)\u001b[39m/\u001b[39mdw)\u001b[39m*\u001b[39m\u001b[39m*\u001b[39m\u001b[39m2\u001b[39m),(mu3 \u001b[39m*\u001b[39m (a3\u001b[39m/\u001b[39mda)\u001b[39m*\u001b[39m\u001b[39m*\u001b[39m\u001b[39m2\u001b[39m),(mu2 \u001b[39m*\u001b[39m (b3\u001b[39m/\u001b[39mdb)\u001b[39m*\u001b[39m\u001b[39m*\u001b[39m\u001b[39m2\u001b[39m),(mu1 \u001b[39m*\u001b[39m ((w3 \u001b[39m-\u001b[39m wm)\u001b[39m/\u001b[39mdw)\u001b[39m*\u001b[39m\u001b[39m*\u001b[39m\u001b[39m2\u001b[39m),(mu3 \u001b[39m*\u001b[39m (a4\u001b[39m/\u001b[39mda)\u001b[39m*\u001b[39m\u001b[39m*\u001b[39m\u001b[39m2\u001b[39m),(mu2 \u001b[39m*\u001b[39m (b4\u001b[39m/\u001b[39mdb)\u001b[39m*\u001b[39m\u001b[39m*\u001b[39m\u001b[39m2\u001b[39m),(mu1 \u001b[39m*\u001b[39m ((w4 \u001b[39m-\u001b[39m wm)\u001b[39m/\u001b[39mdw)\u001b[39m*\u001b[39m\u001b[39m*\u001b[39m\u001b[39m2\u001b[39m)])\n\u001b[0;32m---> 22\u001b[0m gradh_ortho \u001b[39m=\u001b[39m sympy\u001b[39m.\u001b[39;49meye(\u001b[39m12\u001b[39;49m) \u001b[39m-\u001b[39;49m (gradh \u001b[39m*\u001b[39;49m ((gradh\u001b[39m.\u001b[39;49mT) \u001b[39m*\u001b[39;49m gradh)\u001b[39m.\u001b[39;49mpinv() \u001b[39m*\u001b[39;49m (gradh\u001b[39m.\u001b[39;49mT))\n\u001b[1;32m     23\u001b[0m u_j \u001b[39m=\u001b[39m gamma_j \u001b[39m*\u001b[39m gradh_ortho \u001b[39m*\u001b[39m gradj\n",
      "File \u001b[0;32m~/miniconda3/envs/ardupilot/lib/python3.9/site-packages/sympy/core/decorators.py:106\u001b[0m, in \u001b[0;36mcall_highest_priority.<locals>.priority_decorator.<locals>.binary_op_wrapper\u001b[0;34m(self, other)\u001b[0m\n\u001b[1;32m    104\u001b[0m         \u001b[39mif\u001b[39;00m f \u001b[39mis\u001b[39;00m \u001b[39mnot\u001b[39;00m \u001b[39mNone\u001b[39;00m:\n\u001b[1;32m    105\u001b[0m             \u001b[39mreturn\u001b[39;00m f(\u001b[39mself\u001b[39m)\n\u001b[0;32m--> 106\u001b[0m \u001b[39mreturn\u001b[39;00m func(\u001b[39mself\u001b[39;49m, other)\n",
      "File \u001b[0;32m~/miniconda3/envs/ardupilot/lib/python3.9/site-packages/sympy/matrices/common.py:2937\u001b[0m, in \u001b[0;36mMatrixArithmetic.__sub__\u001b[0;34m(self, a)\u001b[0m\n\u001b[1;32m   2935\u001b[0m \u001b[39m@call_highest_priority\u001b[39m(\u001b[39m'\u001b[39m\u001b[39m__rsub__\u001b[39m\u001b[39m'\u001b[39m)\n\u001b[1;32m   2936\u001b[0m \u001b[39mdef\u001b[39;00m \u001b[39m__sub__\u001b[39m(\u001b[39mself\u001b[39m, a):\n\u001b[0;32m-> 2937\u001b[0m     \u001b[39mreturn\u001b[39;00m \u001b[39mself\u001b[39;49m \u001b[39m+\u001b[39;49m (\u001b[39m-\u001b[39;49ma)\n",
      "File \u001b[0;32m~/miniconda3/envs/ardupilot/lib/python3.9/site-packages/sympy/core/decorators.py:106\u001b[0m, in \u001b[0;36mcall_highest_priority.<locals>.priority_decorator.<locals>.binary_op_wrapper\u001b[0;34m(self, other)\u001b[0m\n\u001b[1;32m    104\u001b[0m         \u001b[39mif\u001b[39;00m f \u001b[39mis\u001b[39;00m \u001b[39mnot\u001b[39;00m \u001b[39mNone\u001b[39;00m:\n\u001b[1;32m    105\u001b[0m             \u001b[39mreturn\u001b[39;00m f(\u001b[39mself\u001b[39m)\n\u001b[0;32m--> 106\u001b[0m \u001b[39mreturn\u001b[39;00m func(\u001b[39mself\u001b[39;49m, other)\n",
      "File \u001b[0;32m~/miniconda3/envs/ardupilot/lib/python3.9/site-packages/sympy/matrices/common.py:2642\u001b[0m, in \u001b[0;36mMatrixArithmetic.__add__\u001b[0;34m(self, other)\u001b[0m\n\u001b[1;32m   2640\u001b[0m \u001b[39mif\u001b[39;00m \u001b[39mhasattr\u001b[39m(other, \u001b[39m'\u001b[39m\u001b[39mshape\u001b[39m\u001b[39m'\u001b[39m):\n\u001b[1;32m   2641\u001b[0m     \u001b[39mif\u001b[39;00m \u001b[39mself\u001b[39m\u001b[39m.\u001b[39mshape \u001b[39m!=\u001b[39m other\u001b[39m.\u001b[39mshape:\n\u001b[0;32m-> 2642\u001b[0m         \u001b[39mraise\u001b[39;00m ShapeError(\u001b[39m\"\u001b[39m\u001b[39mMatrix size mismatch: \u001b[39m\u001b[39m%s\u001b[39;00m\u001b[39m + \u001b[39m\u001b[39m%s\u001b[39;00m\u001b[39m\"\u001b[39m \u001b[39m%\u001b[39m (\n\u001b[1;32m   2643\u001b[0m             \u001b[39mself\u001b[39m\u001b[39m.\u001b[39mshape, other\u001b[39m.\u001b[39mshape))\n\u001b[1;32m   2645\u001b[0m \u001b[39m# honest SymPy matrices defer to their class's routine\u001b[39;00m\n\u001b[1;32m   2646\u001b[0m \u001b[39mif\u001b[39;00m \u001b[39mgetattr\u001b[39m(other, \u001b[39m'\u001b[39m\u001b[39mis_Matrix\u001b[39m\u001b[39m'\u001b[39m, \u001b[39mFalse\u001b[39;00m):\n\u001b[1;32m   2647\u001b[0m     \u001b[39m# call the highest-priority class's _eval_add\u001b[39;00m\n",
      "\u001b[0;31mShapeError\u001b[0m: Matrix size mismatch: (12, 12) + (6, 6)"
     ]
    }
   ],
   "source": [
    "\n",
    "a1,b1,w1,a1,b2,w2,a3,b3,w3,a4,b4,w4,mu,km = sympy.symbols(\"a1,b1,w1,a1,b2,w2,a3,b3,w3,a4,b4,w4, mu, km\")\n",
    "alloc2 = Matrix([-mu*w1**2*sin(a1)*cos(b1) - mu*w2**2*sin(a2)*cos(b2) - mu*w3**2*sin(a3)*cos(b3) - mu*w4**2*sin(a4)*cos(b4),\n",
    " mu*w1**2*sin(b1) + mu*w2**2*sin(b2) + mu*w3**2*sin(b3) + mu*w4**2*sin(b4),\n",
    " -mu*w1**2*cos(a1)*cos(b1) - mu*w2**2*cos(a2)*cos(b2) - mu*w3**2*cos(a3)*cos(b3) - mu*w4**2*cos(a4)*cos(b4),\n",
    " w1**2*(1.0*km*sin(a1)*cos(b1) + l*mu*cos(a1)*cos(b1)) + w2**2*(1.0*km*sin(a2)*cos(b2) - l*mu*cos(a2)*cos(b2)) + w3**2*(-1.0*km*sin(a3)*cos(b3) - l*mu*cos(a3)*cos(b3)) + w4**2*(-1.0*km*sin(a4)*cos(b4) + l*mu*cos(a4)*cos(b4)),\n",
    " w1**2*(-1.0*km*sin(b1) - l*mu*cos(a1)*cos(b1)) + w2**2*(-1.0*km*sin(b2) + l*mu*cos(a2)*cos(b2)) + w3**2*(1.0*km*sin(b3) - l*mu*cos(a3)*cos(b3)) + w4**2*(1.0*km*sin(b4) + l*mu*cos(a4)*cos(b4)),\n",
    " w1**2*(1.0*km*cos(a1)*cos(b1) - l*mu*sin(a1)*cos(b1) - l*mu*sin(b1)) + w2**2*(1.0*km*cos(a2)*cos(b2) + l*mu*sin(a2)*cos(b2) + l*mu*sin(b2)) + w3**2*(-1.0*km*cos(a3)*cos(b3) + l*mu*sin(a3)*cos(b3) - l*mu*sin(b3)) + w4**2*(-1.0*km*cos(a4)*cos(b4) - l*mu*sin(a4)*cos(b4) + l*mu*sin(b4))])\n",
    "y = Matrix([a1,b1,w1,a1,b2,w2,a3,b3,w3,a4,b4,w4])\n",
    "gradh = alloc2.jacobian(y)\n",
    "gamma_p = 0.1\n",
    "gamma_j = 0.1\n",
    "gradh = gradh.subs([(a1, np.pi/2),(b1, np.pi/2),(w1, 2000),(a2, np.pi/2),(b2, np.pi/2),\n",
    "               (w2, 2000),(a3, np.pi/2),(b3, np.pi/2),(w3, 2000),(a4, np.pi/2),\n",
    "               (b4, np.pi/2),(w4, 2000), (km ,  0.01), (mu, 0.1), (l,  0.13)])\n",
    "alloc = alloc2.subs([(a1, np.pi/2),(b1, np.pi/2),(w1, 2000),(a2, np.pi/2),(b2, np.pi/2),\n",
    "               (w2, 2000),(a3, np.pi/2),(b3, np.pi/2),(w3, 2000),(a4, np.pi/2),\n",
    "               (b4, np.pi/2),(w4, 2000), (km ,  0.01), (mu, 0.1), (l,  0.13)])\n",
    "u_y = (gamma_p * gradh * ((gradh.T) * (gradh)).pinv()).T * (Matrix([2, 2.5, (1.94*9.81), 0.1, 0.1, 0.1]) - alloc)\n",
    "mu1, mu2,mu3, wm, da, db, dw= sympy.symbols(\"mu1, mu2, mu3, wm, da, db, dw\")\n",
    "print(u_y)\n",
    "gradj = Matrix([(mu3 * (a1/da)**2),(mu2 * (b1/db)**2),(mu1 * ((w1 - wm)/dw)**2),(mu3 * (a2/da)**2),(mu2 * (b2/db)**2),(mu1 * ((w2 - wm)/dw)**2),(mu3 * (a3/da)**2),(mu2 * (b3/db)**2),(mu1 * ((w3 - wm)/dw)**2),(mu3 * (a4/da)**2),(mu2 * (b4/db)**2),(mu1 * ((w4 - wm)/dw)**2)])\n",
    "gradh_ortho = sympy.eye(12) - (gradh * ((gradh.T) * gradh).pinv() * (gradh.T))\n",
    "u_j = gamma_j * gradh_ortho * gradj\n"
   ]
  },
  {
   "cell_type": "code",
   "execution_count": null,
   "metadata": {},
   "outputs": [],
   "source": []
  }
 ],
 "metadata": {
  "kernelspec": {
   "display_name": "ardupilot",
   "language": "python",
   "name": "python3"
  },
  "language_info": {
   "codemirror_mode": {
    "name": "ipython",
    "version": 3
   },
   "file_extension": ".py",
   "mimetype": "text/x-python",
   "name": "python",
   "nbconvert_exporter": "python",
   "pygments_lexer": "ipython3",
   "version": "3.9.16"
  },
  "orig_nbformat": 4
 },
 "nbformat": 4,
 "nbformat_minor": 2
}
