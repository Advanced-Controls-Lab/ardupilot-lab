{
 "cells": [
  {
   "cell_type": "code",
   "execution_count": 2,
   "metadata": {},
   "outputs": [],
   "source": [
    "import numpy as np \n",
    "import roboticstoolbox as rtb \n",
    "from spatialmath import * \n",
    "from spatialmath.base import *\n",
    "import spatialmath.base.symbolic as sym\n"
   ]
  },
  {
   "cell_type": "code",
   "execution_count": 10,
   "metadata": {},
   "outputs": [
    {
     "name": "stdout",
     "output_type": "stream",
     "text": [
      "[-mu*sin(alpha)*cos(beta) mu*sin(beta) -mu*cos(alpha)*cos(beta)]\n"
     ]
    }
   ],
   "source": [
    "alpha = sym.symbol(\"alpha\")\n",
    "beta = sym.symbol(\"beta\")\n",
    "A = sym.symbol(\"A\")\n",
    "mu = sym.symbol(\"mu\")\n",
    "km = sym.symbol(\"Km\")\n",
    "\n",
    "R1 = roty(alpha)\n",
    "R2 = rotx(beta)\n",
    "R_downz = rotx(np.pi)\n",
    "R_prop = R1 @ R2 \n",
    "T = np.array([0,0,-mu])\n",
    "force_body = R_prop.dot(T)\n",
    "\n",
    "print(force_body)"
   ]
  },
  {
   "cell_type": "code",
   "execution_count": 9,
   "metadata": {},
   "outputs": [
    {
     "name": "stdout",
     "output_type": "stream",
     "text": [
      "[-A*cos(alpha)*cos(beta) - 1.0*Km*sin(alpha)*cos(beta)\n",
      " A*cos(alpha)*cos(beta) - 1.0*Km*sin(alpha)*cos(beta)\n",
      " A*cos(alpha)*cos(beta) + 1.0*Km*sin(alpha)*cos(beta)\n",
      " -A*cos(alpha)*cos(beta) + 1.0*Km*sin(alpha)*cos(beta)]\n",
      " \n",
      "[A*cos(alpha)*cos(beta) + 1.0*Km*sin(beta)\n",
      " -A*cos(alpha)*cos(beta) + 1.0*Km*sin(beta)\n",
      " A*cos(alpha)*cos(beta) - 1.0*Km*sin(beta)\n",
      " -A*cos(alpha)*cos(beta) - 1.0*Km*sin(beta)]\n",
      "\n",
      "[A*sin(alpha)*cos(beta) - 1.0*Km*cos(alpha)*cos(beta) + (-A + 1.22464679914735e-16*Km)*sin(beta)\n",
      " -A*sin(alpha)*cos(beta) - 1.0*Km*cos(alpha)*cos(beta) + (A + 1.22464679914735e-16*Km)*sin(beta)\n",
      " -A*sin(alpha)*cos(beta) + 1.0*Km*cos(alpha)*cos(beta) + (-A - 1.22464679914735e-16*Km)*sin(beta)\n",
      " A*sin(alpha)*cos(beta) + 1.0*Km*cos(alpha)*cos(beta) + (A - 1.22464679914735e-16*Km)*sin(beta)]\n"
     ]
    }
   ],
   "source": [
    "drag_torques = np.array([[0, 0 , 0 , 0],[0,0,0,0],[-km, -km, km , km]])\n",
    "drag_torques = (R_downz.dot(drag_torques))\n",
    "roll_arms = np.cross(np.array([[0, 0, 0, 0], [0,0,0,0], [-1,-1,-1,-1]]).T, np.array([[0, 0, 0, 0],[1,-1,-1,1],[0,0,0,0]]).T)\n",
    "pitch_arms = np.cross(np.array([[0,0,0,0],[0, 0, 0, 0],  [-1,-1,-1,-1]]).T, np.array([[1, -1, 1, -1],[0,0,0,0],[0,0,0,0]]).T)\n",
    "yaw_x_arms = np.cross(np.array([[0, 0, 0, 0],[1, 1, 1, 1],  [0,0,0,0]]).T , np.array([[1, -1, 1, -1], [0, 0, 0, 0 ], [0, 0, 0, 0]]).T)\n",
    "yaw_y_arms = np.cross(np.array([[-1, -1, -1, -1],[0, 0, 0, 0],[0,0,0,0]]).T, np.array([[0, 0, 0, 0],[1, -1,-1, 1], [0,0,0,0]]).T)\n",
    "#print(roll_arms[:,0].T * A , pitch_arms[:, 1].T * A, yaw_x_arms)\n",
    "roll_torques = force_body.dot(np.array([drag_torques[2], [0,0,0,0],roll_arms[:,0].T * A]))\n",
    "pitch_torques = force_body.dot(np.array([[0,0, 0 , 0], drag_torques[2],pitch_arms[:, 1].T * A]))\n",
    "yaw_torques = force_body.dot(np.array([yaw_y_arms[:, 2].T * A,yaw_x_arms[:, 2].T * A,[0, 0 , 0 , 0]]) + drag_torques)\n",
    "print(roll_torques)\n",
    "print(\" \")\n",
    "print(pitch_torques)\n",
    "print(\"\")\n",
    "print(yaw_torques)"
   ]
  },
  {
   "cell_type": "code",
   "execution_count": 25,
   "metadata": {},
   "outputs": [
    {
     "name": "stdout",
     "output_type": "stream",
     "text": [
      "[[0.13*mu*cos(alpha)*cos(beta) -0.13*mu*cos(alpha)*cos(beta)\n",
      "  -0.13*mu*cos(alpha)*cos(beta) 0.13*mu*cos(alpha)*cos(beta)]\n",
      " [-0.13*mu*cos(alpha)*cos(beta) 0.13*mu*cos(alpha)*cos(beta)\n",
      "  -0.13*mu*cos(alpha)*cos(beta) 0.13*mu*cos(alpha)*cos(beta)]\n",
      " [-0.13*mu*sin(alpha)*cos(beta) - 0.13*mu*sin(beta)\n",
      "  0.13*mu*sin(alpha)*cos(beta) + 0.13*mu*sin(beta)\n",
      "  0.13*mu*sin(alpha)*cos(beta) - 0.13*mu*sin(beta)\n",
      "  -0.13*mu*sin(alpha)*cos(beta) + 0.13*mu*sin(beta)]]\n"
     ]
    }
   ],
   "source": [
    "forces_body = np.tile(force_body, (4, 1))\n",
    "torques = np.cross(forces_body, np.array([[0.13, 0.13,0],[-0.13, -0.13, 0], [ 0.13, -0.13, 0], [-0.13, 0.13, 0]])).T\n",
    "print(torques)"
   ]
  },
  {
   "cell_type": "code",
   "execution_count": 28,
   "metadata": {},
   "outputs": [
    {
     "name": "stdout",
     "output_type": "stream",
     "text": [
      "[[1.0*Km*sin(alpha)*cos(beta) + 0.13*mu*cos(alpha)*cos(beta)\n",
      "  1.0*Km*sin(alpha)*cos(beta) - 0.13*mu*cos(alpha)*cos(beta)\n",
      "  -1.0*Km*sin(alpha)*cos(beta) - 0.13*mu*cos(alpha)*cos(beta)\n",
      "  -1.0*Km*sin(alpha)*cos(beta) + 0.13*mu*cos(alpha)*cos(beta)]\n",
      " [-1.0*Km*sin(beta) - 0.13*mu*cos(alpha)*cos(beta)\n",
      "  -1.0*Km*sin(beta) + 0.13*mu*cos(alpha)*cos(beta)\n",
      "  1.0*Km*sin(beta) - 0.13*mu*cos(alpha)*cos(beta)\n",
      "  1.0*Km*sin(beta) + 0.13*mu*cos(alpha)*cos(beta)]\n",
      " [1.0*Km*cos(alpha)*cos(beta) - 0.13*mu*sin(alpha)*cos(beta) - 0.13*mu*sin(beta)\n",
      "  1.0*Km*cos(alpha)*cos(beta) + 0.13*mu*sin(alpha)*cos(beta) + 0.13*mu*sin(beta)\n",
      "  -1.0*Km*cos(alpha)*cos(beta) + 0.13*mu*sin(alpha)*cos(beta) - 0.13*mu*sin(beta)\n",
      "  -1.0*Km*cos(alpha)*cos(beta) - 0.13*mu*sin(alpha)*cos(beta) + 0.13*mu*sin(beta)]]\n"
     ]
    }
   ],
   "source": [
    "drag_torques[1] = 0\n",
    "#print(drag_torques)\n",
    "drag_torques_body = R_prop.dot(drag_torques)\n",
    "print(torques + drag_torques_body)"
   ]
  }
 ],
 "metadata": {
  "kernelspec": {
   "display_name": "ardupilot",
   "language": "python",
   "name": "python3"
  },
  "language_info": {
   "codemirror_mode": {
    "name": "ipython",
    "version": 3
   },
   "file_extension": ".py",
   "mimetype": "text/x-python",
   "name": "python",
   "nbconvert_exporter": "python",
   "pygments_lexer": "ipython3",
   "version": "3.9.16"
  },
  "orig_nbformat": 4
 },
 "nbformat": 4,
 "nbformat_minor": 2
}
